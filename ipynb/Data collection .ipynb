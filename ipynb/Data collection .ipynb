version https://git-lfs.github.com/spec/v1
oid sha256:3115498a2bb1cfa4543bc5b1470eb630c296bd6918d0200edb4d7f8ecb580fb5
size 82277
